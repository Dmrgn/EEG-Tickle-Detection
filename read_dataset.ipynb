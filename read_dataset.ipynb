{
 "cells": [
  {
   "cell_type": "code",
   "execution_count": 4,
   "metadata": {},
   "outputs": [],
   "source": [
    "# Code to read the eeg dataset\n",
    "import h5py\n",
    "f = h5py.File('./s04.mat')"
   ]
  },
  {
   "cell_type": "code",
   "execution_count": null,
   "metadata": {},
   "outputs": [],
   "source": [
    "f.visititems(lambda n,o:print(n, o))"
   ]
  },
  {
   "cell_type": "code",
   "execution_count": 4,
   "metadata": {},
   "outputs": [
    {
     "data": {
      "text/plain": [
       "<HDF5 dataset \"close\": shape (71168, 32), type \"<f8\">"
      ]
     },
     "execution_count": 4,
     "metadata": {},
     "output_type": "execute_result"
    }
   ],
   "source": [
    "f[f[\"rest\"][0][0]][\"close\"]"
   ]
  },
  {
   "cell_type": "code",
   "execution_count": 5,
   "metadata": {},
   "outputs": [],
   "source": [
    "import json\n",
    "\n",
    "layers = []\n",
    "for layer in f[f[\"rest\"][0][0]][\"close\"]:\n",
    "    layers.append([])\n",
    "    for i in layer:\n",
    "        layers[-1].append(round(i, 8))\n",
    "\n",
    "with open('./s04_rest_close.json', 'w') as f:\n",
    "    json.dump(layers, f)"
   ]
  }
 ],
 "metadata": {
  "kernelspec": {
   "display_name": "arcee",
   "language": "python",
   "name": "python3"
  },
  "language_info": {
   "codemirror_mode": {
    "name": "ipython",
    "version": 3
   },
   "file_extension": ".py",
   "mimetype": "text/x-python",
   "name": "python",
   "nbconvert_exporter": "python",
   "pygments_lexer": "ipython3",
   "version": "3.9.19"
  }
 },
 "nbformat": 4,
 "nbformat_minor": 2
}
